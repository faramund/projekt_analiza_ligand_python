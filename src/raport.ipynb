{
 "cells": [
  {
   "cell_type": "markdown",
   "metadata": {},
   "source": [
    "# Analiza ligand"
   ]
  },
  {
   "cell_type": "markdown",
   "metadata": {},
   "source": [
    "Stanisław Hardt \n",
    "106620\n",
    "01-03-2016"
   ]
  },
  {
   "cell_type": "markdown",
   "metadata": {},
   "source": [
    "## Wstęp"
   ]
  },
  {
   "cell_type": "markdown",
   "metadata": {},
   "source": [
    "W tym projekcie pod uwagę zostały wzięte dwa algorytmy klasyfikacji: AdaBoost i Random Forest. Celem było przeanalizowanie ich skuteczności na zbiorze danych dotyczących ligand."
   ]
  },
  {
   "cell_type": "markdown",
   "metadata": {},
   "source": [
    "## Uczenie i testowanie"
   ]
  },
  {
   "cell_type": "markdown",
   "metadata": {},
   "source": [
    "### Importowanie"
   ]
  },
  {
   "cell_type": "code",
   "execution_count": 1,
   "metadata": {
    "collapsed": true
   },
   "outputs": [],
   "source": [
    "from random_forest_model import RandomForestModel\n",
    "from ada_model import AdaModel\n",
    "import warnings\n",
    "warnings.filterwarnings('ignore')\n",
    "from loader import Loader"
   ]
  },
  {
   "cell_type": "markdown",
   "metadata": {},
   "source": [
    "### Odczytanie danych "
   ]
  },
  {
   "cell_type": "code",
   "execution_count": 2,
   "metadata": {
    "collapsed": true
   },
   "outputs": [],
   "source": [
    "X_train,y_train = Loader().load_train_set('~/ligandy_dane/all_summary.txt')\n",
    "X_test = Loader().load_test_set('~/ligandy_dane/test_data.txt')"
   ]
  },
  {
   "cell_type": "markdown",
   "metadata": {},
   "source": [
    "### Klasyfikatory dla pojedynczych res_name"
   ]
  },
  {
   "cell_type": "markdown",
   "metadata": {},
   "source": [
    "#### AdaBoost"
   ]
  },
  {
   "cell_type": "code",
   "execution_count": 3,
   "metadata": {
    "collapsed": false
   },
   "outputs": [
    {
     "name": "stdout",
     "output_type": "stream",
     "text": [
      "grid_scores: [mean: 0.21483, std: 0.01055, params: {'n_estimators': 1, 'base_estimator__criterion': 'entropy', 'base_estimator__splitter': 'best'}, mean: 0.19751, std: 0.00384, params: {'n_estimators': 5, 'base_estimator__criterion': 'entropy', 'base_estimator__splitter': 'random'}, mean: 0.21042, std: 0.00566, params: {'n_estimators': 5, 'base_estimator__criterion': 'entropy', 'base_estimator__splitter': 'best'}, mean: 0.21797, std: 0.00821, params: {'n_estimators': 1, 'base_estimator__criterion': 'gini', 'base_estimator__splitter': 'best'}, mean: 0.20123, std: 0.01637, params: {'n_estimators': 5, 'base_estimator__criterion': 'gini', 'base_estimator__splitter': 'random'}]\n",
      "best_estimator: AdaBoostClassifier(algorithm='SAMME.R',\n",
      "          base_estimator=DecisionTreeClassifier(class_weight=None, criterion='gini', max_depth=None,\n",
      "            max_features='auto', max_leaf_nodes=None, min_samples_leaf=1,\n",
      "            min_samples_split=2, min_weight_fraction_leaf=0.0,\n",
      "            presort=False, random_state=None, splitter='best'),\n",
      "          learning_rate=1.0, n_estimators=1, random_state=None)\n",
      "best_score: 0.21797256452\n",
      "best_params: {'n_estimators': 1, 'base_estimator__criterion': 'gini', 'base_estimator__splitter': 'best'}\n"
     ]
    }
   ],
   "source": [
    "clf = AdaModel().learn(X_train, y_train, 'single.pk')\n",
    "AdaModel().predict(clf, X_test, 'single.txt')"
   ]
  },
  {
   "cell_type": "markdown",
   "metadata": {},
   "source": [
    "#### RandomForest"
   ]
  },
  {
   "cell_type": "code",
   "execution_count": 4,
   "metadata": {
    "collapsed": false
   },
   "outputs": [
    {
     "name": "stdout",
     "output_type": "stream",
     "text": [
      "grid_scores: [mean: 0.08365, std: 0.00536, params: {'n_estimators': 6, 'criterion': 'entropy'}, mean: 0.09948, std: 0.01210, params: {'n_estimators': 15, 'criterion': 'gini'}]\n",
      "best_estimator: RandomForestClassifier(bootstrap=True, class_weight=None, criterion='gini',\n",
      "            max_depth=None, max_features='auto', max_leaf_nodes=None,\n",
      "            min_samples_leaf=1, min_samples_split=2,\n",
      "            min_weight_fraction_leaf=0.0, n_estimators=15, n_jobs=1,\n",
      "            oob_score=False, random_state=None, verbose=0,\n",
      "            warm_start=False)\n",
      "best_score: 0.0994782167836\n",
      "best_params: {'n_estimators': 15, 'criterion': 'gini'}\n"
     ]
    }
   ],
   "source": [
    "clf = RandomForestModel().learn(X_train, y_train, 'single.pk')\n",
    "RandomForestModel().predict(clf, X_test, 'single.txt')"
   ]
  },
  {
   "cell_type": "markdown",
   "metadata": {},
   "source": [
    "### Klasyfikatory dla grup res_name"
   ]
  },
  {
   "cell_type": "code",
   "execution_count": 5,
   "metadata": {
    "collapsed": true
   },
   "outputs": [],
   "source": [
    "X_train,y_train = Loader().load_train_set_with_groups('~/ligandy_dane/all_summary.txt', '~/ligandy_dane/grouped_res_name.txt')"
   ]
  },
  {
   "cell_type": "markdown",
   "metadata": {},
   "source": [
    "#### AdaBoost"
   ]
  },
  {
   "cell_type": "code",
   "execution_count": 6,
   "metadata": {
    "collapsed": false
   },
   "outputs": [
    {
     "name": "stdout",
     "output_type": "stream",
     "text": [
      "grid_scores: [mean: 0.04348, std: 0.00415, params: {'n_estimators': 1, 'base_estimator__criterion': 'entropy', 'base_estimator__splitter': 'best'}, mean: 0.04078, std: 0.00293, params: {'n_estimators': 5, 'base_estimator__criterion': 'entropy', 'base_estimator__splitter': 'random'}, mean: 0.04040, std: 0.00595, params: {'n_estimators': 5, 'base_estimator__criterion': 'entropy', 'base_estimator__splitter': 'best'}, mean: 0.04963, std: 0.00397, params: {'n_estimators': 1, 'base_estimator__criterion': 'gini', 'base_estimator__splitter': 'best'}, mean: 0.04425, std: 0.00423, params: {'n_estimators': 5, 'base_estimator__criterion': 'gini', 'base_estimator__splitter': 'random'}]\n",
      "best_estimator: AdaBoostClassifier(algorithm='SAMME.R',\n",
      "          base_estimator=DecisionTreeClassifier(class_weight=None, criterion='gini', max_depth=None,\n",
      "            max_features='auto', max_leaf_nodes=None, min_samples_leaf=1,\n",
      "            min_samples_split=2, min_weight_fraction_leaf=0.0,\n",
      "            presort=False, random_state=None, splitter='best'),\n",
      "          learning_rate=1.0, n_estimators=1, random_state=None)\n",
      "best_score: 0.049634474798\n",
      "best_params: {'n_estimators': 1, 'base_estimator__criterion': 'gini', 'base_estimator__splitter': 'best'}\n"
     ]
    }
   ],
   "source": [
    "clf = AdaModel().learn(X_train, y_train, 'group.pk')\n",
    "AdaModel().predict(clf, X_test, 'group.txt')"
   ]
  },
  {
   "cell_type": "markdown",
   "metadata": {},
   "source": [
    "#### RandomForest"
   ]
  },
  {
   "cell_type": "code",
   "execution_count": 7,
   "metadata": {
    "collapsed": false
   },
   "outputs": [
    {
     "name": "stdout",
     "output_type": "stream",
     "text": [
      "grid_scores: [mean: 0.00758, std: 0.00151, params: {'n_estimators': 6, 'criterion': 'entropy'}, mean: 0.00674, std: 0.00086, params: {'n_estimators': 15, 'criterion': 'gini'}]\n",
      "best_estimator: RandomForestClassifier(bootstrap=True, class_weight=None, criterion='entropy',\n",
      "            max_depth=None, max_features='auto', max_leaf_nodes=None,\n",
      "            min_samples_leaf=1, min_samples_split=2,\n",
      "            min_weight_fraction_leaf=0.0, n_estimators=6, n_jobs=1,\n",
      "            oob_score=False, random_state=None, verbose=0,\n",
      "            warm_start=False)\n",
      "best_score: 0.00757844696322\n",
      "best_params: {'n_estimators': 6, 'criterion': 'entropy'}\n"
     ]
    }
   ],
   "source": [
    "clf = RandomForestModel().learn(X_train, y_train, 'group.pk')\n",
    "RandomForestModel().predict(clf, X_test, 'group.txt')"
   ]
  },
  {
   "cell_type": "markdown",
   "metadata": {},
   "source": [
    "## Podsumowanie "
   ]
  },
  {
   "cell_type": "markdown",
   "metadata": {},
   "source": [
    "Zdecydowanym faworytem okazał się AdaBoost."
   ]
  }
 ],
 "metadata": {
  "kernelspec": {
   "display_name": "Python 2",
   "language": "python",
   "name": "python2"
  },
  "language_info": {
   "codemirror_mode": {
    "name": "ipython",
    "version": 2
   },
   "file_extension": ".py",
   "mimetype": "text/x-python",
   "name": "python",
   "nbconvert_exporter": "python",
   "pygments_lexer": "ipython2",
   "version": "2.7.6"
  }
 },
 "nbformat": 4,
 "nbformat_minor": 0
}
